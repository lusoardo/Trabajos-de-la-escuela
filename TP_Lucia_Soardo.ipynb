{
  "nbformat": 4,
  "nbformat_minor": 0,
  "metadata": {
    "colab": {
      "provenance": [],
      "include_colab_link": true
    },
    "kernelspec": {
      "name": "python3",
      "display_name": "Python 3"
    },
    "language_info": {
      "name": "python"
    }
  },
  "cells": [
    {
      "cell_type": "markdown",
      "metadata": {
        "id": "view-in-github",
        "colab_type": "text"
      },
      "source": [
        "<a href=\"https://colab.research.google.com/github/lusoardo/Trabajos-de-la-escuela/blob/main/TP_Lucia_Soardo.ipynb\" target=\"_parent\"><img src=\"https://colab.research.google.com/assets/colab-badge.svg\" alt=\"Open In Colab\"/></a>"
      ]
    },
    {
      "cell_type": "markdown",
      "source": [
        "# ***Sistema de Control para una Estación Meteorológica*** ☀☂🌈🌡🌬⛄\n",
        "\n",
        "\n",
        "**Introduccion:** Esto esta hecho por la estudiante Lucia Del Mar Soardo de sexto año de la escuela Pro-A. Se trata de un programa donde utilizamos conocimientos previos sobre estructuras secuenciales, condicionales, bucles, operaciones matemáticas y manejo de entrada/salida.\n",
        "\n",
        "**Variables:** Estas son las variables que las ponemos al principio para inicializarlas en 0,  son espacios de memoria donde almacenan y cambian valores durante la ejecución de un programa. Si no lo hacemos, el programa va a tirar error.\n",
        "\n"
      ],
      "metadata": {
        "id": "XaCpoPqe5Tgb"
      }
    },
    {
      "cell_type": "code",
      "source": [
        "FE=0 #Frio Extremo\n",
        "T=0 #Templado\n",
        "C=0 #Caluroso\n",
        "PresionA=9999999999\n",
        "Mayor=0\n",
        "Promedio=0\n",
        "Carga=0\n",
        "Humedad=150\n",
        "Suma=0\n",
        "ConsumoSemanal=0\n",
        "PanelesSolares=0\n",
        "CuantosPaneles=0\n",
        "Eficiencia=0\n",
        "Produccion=0\n",
        "SuperficieT=0"
      ],
      "metadata": {
        "id": "Dk7qcxQUD2ar"
      },
      "execution_count": null,
      "outputs": []
    },
    {
      "cell_type": "markdown",
      "source": [
        "# **Parte 1 - Registro de Datos Meteorológicos de hoy** 🌞🌬🌡❄\n",
        "\n",
        "Esto es la carga donde le pedimos al usuario que cargue los datos meteorologicos de hoy con las variables de humedad, temperatura y la velocidad del viento para luego evaluar estas condiciones y darles consejos al usuario."
      ],
      "metadata": {
        "id": "yDGC_bUTXok9"
      }
    },
    {
      "cell_type": "code",
      "source": [
        "Temperatura= int(input(\"Ingrese la temperatura en °C\"))\n",
        "while (Humedad>100):\n",
        "    Humedad= int(input(\"Ingrese un porcentaje de humedad\"))\n",
        "\n",
        "Velocidad= int(input(\"Ingrese la velocidad del viento\"))"
      ],
      "metadata": {
        "id": "Ks64BmpjX0K1"
      },
      "execution_count": null,
      "outputs": []
    },
    {
      "cell_type": "markdown",
      "source": [
        "Aca, es donde asignamos los valores verdaderos de cada condicion para hacer una clasificacion y secuencia de condiciones para cuando se ingresen los datos ver como se validan parametros estimados por el programa, para luego mostrar advertencias."
      ],
      "metadata": {
        "id": "--QN7rRBYAvc"
      }
    },
    {
      "cell_type": "code",
      "source": [
        "if(Temperatura<0):\n",
        "    FE=True\n",
        "elif(0<=Temperatura<=25):\n",
        "    T=True\n",
        "elif(Temperatura>25):\n",
        "    C=True"
      ],
      "metadata": {
        "id": "oidiiLBTYQ-F"
      },
      "execution_count": null,
      "outputs": []
    },
    {
      "cell_type": "markdown",
      "source": [
        "Despues, entran en otra secuencia de condiciones para poder brindar consejos. Esto se debe que gracias a la validacion de datos y los valores que ingresa el usuario, el programa puede combinar las variables."
      ],
      "metadata": {
        "id": "4itYtBsRGwGW"
      }
    },
    {
      "cell_type": "code",
      "source": [
        "if(C and Humedad >=  60):\n",
        "    print(\"Riesgo de calor húmedo, mantenerse hidratado.\")\n",
        "\n",
        "if(FE and Velocidad >= 10):\n",
        "    print (\"Usar ropa abrigada y evitar exposición prolongada.\")\n",
        "\n",
        "if(FE and Humedad <= 10):\n",
        "    print (\"Hay probalididad de que llueva, por las dudas lleva un paraguas.\")\n",
        "\n",
        "if(Velocidad >=30):\n",
        "    print(\"Mantener ventanas cerradas, evitar usar bicicleta.\")\n"
      ],
      "metadata": {
        "id": "i4l5xVSqXIeG"
      },
      "execution_count": null,
      "outputs": []
    },
    {
      "cell_type": "markdown",
      "source": [
        "# **Parte 2 - Datos de presión atmosférica**\n",
        "En esta parte, usaremos un bucle repetitivo de control (While) donde le pedimos que el usuario haga cuatro cargas de la presion atmosferica del dia (mañana, siesta, tarde, noche). Se calcula el promedio de las presiones, donde se suma y se guarda en `PresionA` donde se busca llevar un conteo del promedio de las cuatro presiones del dia y ver cual es la mayor. Se interrumpen las cargas, si se cumple la condicion del bucle repetitivo el programa va a mostrar en la pantalla que ya hubo una alerta de tormenta y no va a pedir otro dato. Si no se cumplen las cuatro cargas es porque fue interrumpido por una alerta de tormenta, se calcula el `Promedio` dividiendo por la cantidad de entradas de `Carga`. Mediante este calculo el programa le muestra al usuario el promedio de presiones que se llegaron a calcular y la mayor presion que cargo el usuario."
      ],
      "metadata": {
        "id": "4fpU5ggDZNWv"
      }
    },
    {
      "cell_type": "code",
      "source": [
        "while  (Carga < 4 and(Humedad <= 80 or PresionA  >= 1000)): #Bucle que se ejecuta mientras no se hayan hecho 4 cargas y la condición de humedad o presión se cumpla\n",
        "    PresionA= int(input(\"Cargar la presion atmoferisca\")) #Le pida al usuario ingresar la presión atmosférica\n",
        "    Carga+=1\n",
        "    Promedio+=PresionA #Se van acumulando la carga de Presiones\n",
        "    if(Mayor<PresionA): #Condicional que compara cual es la Presion mayor ingresada\n",
        "        Mayor=PresionA\n",
        "\n",
        "\n",
        "    if Humedad > 80 and PresionA < 1000: #Condicional que se ejecuta cuando la humedad es mayor a 80 y la presion menor a 1000, para ver si se generó la alerta de tormenta\n",
        "        print(\"Se generó una alerta de tormenta.\")\n",
        "    else:\n",
        "        print(\"No hubo alerta de tormenta.\")\n",
        "\n",
        "if Carga < 4: #Condicional que ve si las cargas son menores a cuatro, para calcular el promedio de estas y ver cual es la mayor\n",
        "    Promedio /= Carga\n",
        "    print(\"Promedio de presiones:\", Promedio)\n",
        "    print(\"Mayor presión:\", Mayor)\n"
      ],
      "metadata": {
        "id": "USNe-ec5bnM1"
      },
      "execution_count": null,
      "outputs": []
    },
    {
      "cell_type": "markdown",
      "source": [
        "# **Parte 3 - Eficiencia energética** ☀\n",
        "La estación meteorológica está planificando empezar a usar energía solar. Para esto necesita calcular el consumo actual de energía y la producción de los paneles solares. Como sabemos cuantas veces tenemos que solicitar al usuario que cargue sus horas activas semanles, usamos el ciclo repetitivo for. El bucle suma 4 veces la carga de cada semana para lograr hacer un mes, multiplicandolo por 0.5 que es una constante que de kwh que se gasta por hora, para mostrar en pantalla el gasto mensual del usuario."
      ],
      "metadata": {
        "id": "RDQCvlzoI-lj"
      }
    },
    {
      "cell_type": "code",
      "source": [
        "for i in range (0,4,1):\n",
        "    ConsumoSemanal= int(input(\"Cargar horas activas semanales\"))\n",
        "    Suma += ConsumoSemanal\n",
        "    Suma=ConsumoSemanal * 0.5\n",
        "    print(\"Tu gasto mensual es de\", Suma)"
      ],
      "metadata": {
        "id": "d1WNOMzNJJ67"
      },
      "execution_count": null,
      "outputs": []
    },
    {
      "cell_type": "markdown",
      "source": [
        " El programa le pide al usuario que haga una carga sobre los paneles solares, cuántos se van a instalar, el tamaño de cada panel (en metros cuadrados), y qué eficiencia tienen (un porcentaje que indica cuánta energía aprovechan del sol). Sabiendo eso, se calcula primero la superficie total ocupada por los paneles con la variable SuperficieT, multiplicando la cantidad de paneles por su tamaño. Luego, la producción mensual de energía con la variable Produccion, aplicando la fórmula: superficie total × eficiencia ÷ 100 (porque es un porcentaje) × 31 (días del mes). Este valor representa cuánta energía solar generarían todos los paneles juntos en un mes, asumiendo condiciones ideales cada día."
      ],
      "metadata": {
        "id": "0lrYfDP3sGlw"
      }
    },
    {
      "cell_type": "code",
      "source": [
        "CuantosPaneles= int(input(\"¿Cuantos paneles se van a instalar?\"))\n",
        "PanelesSolares= int(input(\"Ingresa el tamaño de los paneles que quieras usar\"))\n",
        "Eficiencia= int(input(\"¿De cuanto es la eficiencia del panel solar?\"))\n",
        "SuperficieT= CuantosPaneles * PanelesSolares\n",
        "Produccion =SuperficieT* (Eficiencia /100) * 31"
      ],
      "metadata": {
        "colab": {
          "base_uri": "https://localhost:8080/"
        },
        "id": "tvwjjQCOtRHQ",
        "outputId": "8c49f274-3a89-43aa-9499-84ea98313a30"
      },
      "execution_count": null,
      "outputs": [
        {
          "name": "stdout",
          "output_type": "stream",
          "text": [
            "¿Cuantos paneles se van a instalar?7\n",
            "Ingresa el tamaño de los paneles que quieras usar8\n",
            "¿De cuanto es la eficiencia del panel solar?80\n"
          ]
        }
      ]
    },
    {
      "cell_type": "markdown",
      "source": [
        "Compara la energía solar que podrían generar los paneles en un mes con los datos guardados de la variable Produccion con el consumo de energía del usuario de la variable ConsumoSemanal. Si la producción estimada es mayor al consumo, sla pantalla mostrara un mensaje recomendando la instalación de paneles solares, esto forma eficiente y sustentable de cubrir las necesidades energéticas."
      ],
      "metadata": {
        "id": "3oYnD-dJthAM"
      }
    },
    {
      "cell_type": "code",
      "source": [
        "if (Produccion > ConsumoSemanal):\n",
        "    print (\"Deberias implementar el uso de paneles solares para cuidar la energia\")\n"
      ],
      "metadata": {
        "id": "YQRSGWBUuJzY"
      },
      "execution_count": null,
      "outputs": []
    },
    {
      "cell_type": "markdown",
      "source": [
        "*Advertencia!*\n",
        "Recordemos que en el registro de variables, creamos la `PresionA` y `Humedad`, estas no estan inicializadas en 0 porque se trata de obligar al codigo que entren en las condiciones que pide el programa."
      ],
      "metadata": {
        "id": "H_kP3BZNMABs"
      }
    }
  ]
}